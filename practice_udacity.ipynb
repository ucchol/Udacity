{
  "nbformat": 4,
  "nbformat_minor": 0,
  "metadata": {
    "colab": {
      "provenance": [],
      "authorship_tag": "ABX9TyMYjt9jNIowwoPNjlfpwsvZ",
      "include_colab_link": true
    },
    "kernelspec": {
      "name": "python3",
      "display_name": "Python 3"
    },
    "language_info": {
      "name": "python"
    }
  },
  "cells": [
    {
      "cell_type": "markdown",
      "metadata": {
        "id": "view-in-github",
        "colab_type": "text"
      },
      "source": [
        "<a href=\"https://colab.research.google.com/github/ucchol/Udacity/blob/main/practice_udacity.ipynb\" target=\"_parent\"><img src=\"https://colab.research.google.com/assets/colab-badge.svg\" alt=\"Open In Colab\"/></a>"
      ]
    },
    {
      "cell_type": "code",
      "source": [
        "#creating the class\n",
        "class Robot:\n",
        "  def __init__(self, Name, Color, Weight):\n",
        "    self.name= Name\n",
        "    self.color= Color\n",
        "    self.weight= Weight\n",
        "\n",
        "  def introduce_self(self):\n",
        "    print(\"my name is \" + self.name + \" whose color is \"+ self.color + \" and weight is \"+ str(self.weight))"
      ],
      "metadata": {
        "id": "OV8XNiN-ThV6"
      },
      "execution_count": 36,
      "outputs": []
    },
    {
      "cell_type": "code",
      "source": [
        "\"\"\"#creating an object\n",
        "r1= Robot()\n",
        "r1.name= \"Tom\"\n",
        "r1.color= \"red\"\n",
        "r1.weight= 30\"\"\""
      ],
      "metadata": {
        "id": "J9eO0sqSUh6j"
      },
      "execution_count": 35,
      "outputs": []
    },
    {
      "cell_type": "code",
      "source": [
        "\"\"\"#creating another object\n",
        "r2= Robot()\n",
        "r2.name= \"Jerry\"\n",
        "r2.color= \"blue\"\n",
        "r2.weight= 40\n",
        "\"\"\""
      ],
      "metadata": {
        "id": "mRrLqV2KVBbe"
      },
      "execution_count": 34,
      "outputs": []
    },
    {
      "cell_type": "code",
      "source": [
        "#creating using the constructor\n",
        "r1= Robot(\"Tom\", \"red\", 30)\n",
        "r2= Robot(\"Jerry\", \"blue\", 40)"
      ],
      "metadata": {
        "id": "_REdc_GnXfSN"
      },
      "execution_count": 37,
      "outputs": []
    },
    {
      "cell_type": "code",
      "source": [
        "#calling object\n",
        "r1.introduce_self()\n",
        "r2.introduce_self()"
      ],
      "metadata": {
        "colab": {
          "base_uri": "https://localhost:8080/"
        },
        "id": "PrWGJfQ3U06B",
        "outputId": "766e137c-2675-407e-9d2c-97b2afb4395f"
      },
      "execution_count": 38,
      "outputs": [
        {
          "output_type": "stream",
          "name": "stdout",
          "text": [
            "my name is Tom whose color is red and weight is 30\n",
            "my name is Jerry whose color is blue and weight is 40\n"
          ]
        }
      ]
    }
  ]
}